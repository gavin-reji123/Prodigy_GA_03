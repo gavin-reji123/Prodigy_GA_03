{
  "nbformat": 4,
  "nbformat_minor": 0,
  "metadata": {
    "colab": {
      "provenance": [],
      "authorship_tag": "ABX9TyPPZ6mKgIrxo/0g4nAUDOOj",
      "include_colab_link": true
    },
    "kernelspec": {
      "name": "python3",
      "display_name": "Python 3"
    },
    "language_info": {
      "name": "python"
    }
  },
  "cells": [
    {
      "cell_type": "markdown",
      "metadata": {
        "id": "view-in-github",
        "colab_type": "text"
      },
      "source": [
        "<a href=\"https://colab.research.google.com/github/gavin-reji123/Prodigy_GA_03/blob/main/task3.ipynb\" target=\"_parent\"><img src=\"https://colab.research.google.com/assets/colab-badge.svg\" alt=\"Open In Colab\"/></a>"
      ]
    },
    {
      "cell_type": "code",
      "execution_count": 1,
      "metadata": {
        "colab": {
          "base_uri": "https://localhost:8080/"
        },
        "id": "fCe7svQJsMrT",
        "outputId": "5504f076-795c-4716-934d-668aa0085c3c"
      },
      "outputs": [
        {
          "output_type": "stream",
          "name": "stdout",
          "text": [
            "Collecting markovify\n",
            "  Downloading markovify-0.9.4.tar.gz (27 kB)\n",
            "  Preparing metadata (setup.py) ... \u001b[?25l\u001b[?25hdone\n",
            "Collecting unidecode (from markovify)\n",
            "  Downloading Unidecode-1.3.8-py3-none-any.whl.metadata (13 kB)\n",
            "Downloading Unidecode-1.3.8-py3-none-any.whl (235 kB)\n",
            "\u001b[2K   \u001b[90m━━━━━━━━━━━━━━━━━━━━━━━━━━━━━━━━━━━━━━━━\u001b[0m \u001b[32m235.5/235.5 kB\u001b[0m \u001b[31m2.7 MB/s\u001b[0m eta \u001b[36m0:00:00\u001b[0m\n",
            "\u001b[?25hBuilding wheels for collected packages: markovify\n",
            "  Building wheel for markovify (setup.py) ... \u001b[?25l\u001b[?25hdone\n",
            "  Created wheel for markovify: filename=markovify-0.9.4-py3-none-any.whl size=18605 sha256=ee299e83119ccdda5016f8b84566a845a17fb2ba3b46d51b46affa5aaec6b77d\n",
            "  Stored in directory: /root/.cache/pip/wheels/ca/8c/c5/41413e24c484f883a100c63ca7b3b0362b7c6f6eb6d7c9cc7f\n",
            "Successfully built markovify\n",
            "Installing collected packages: unidecode, markovify\n",
            "Successfully installed markovify-0.9.4 unidecode-1.3.8\n"
          ]
        }
      ],
      "source": [
        "!pip install markovify"
      ]
    },
    {
      "cell_type": "code",
      "source": [
        "import markovify\n",
        "import random"
      ],
      "metadata": {
        "id": "rDbd3C-SsPzr"
      },
      "execution_count": 5,
      "outputs": []
    },
    {
      "cell_type": "code",
      "source": [
        "with open(\"/content/alice_in_wonderland.txt\") as f:\n",
        "  text = f.read()"
      ],
      "metadata": {
        "id": "Nct-Dj6ysR9v"
      },
      "execution_count": 6,
      "outputs": []
    },
    {
      "cell_type": "code",
      "source": [
        "text_model = markovify.Text(text)"
      ],
      "metadata": {
        "id": "TX2HM7ILsXmu"
      },
      "execution_count": 7,
      "outputs": []
    },
    {
      "cell_type": "code",
      "source": [
        "print( text_model.make_sentence() )"
      ],
      "metadata": {
        "colab": {
          "base_uri": "https://localhost:8080/"
        },
        "id": "m4Ke7mkasiAM",
        "outputId": "23fdaa3a-c6b5-4dff-fd90-54a1650c2c1e"
      },
      "execution_count": 8,
      "outputs": [
        {
          "output_type": "stream",
          "name": "stdout",
          "text": [
            "Alice did not see anything that looked like the look of things at all, as the game was in the pool of tears which she concluded that it was the Duchess's knee, while plates and dishes crashed around it--once more the shriek of the earth.\n"
          ]
        }
      ]
    },
    {
      "cell_type": "code",
      "source": [
        "print(text_model.make_short_sentence(140))"
      ],
      "metadata": {
        "colab": {
          "base_uri": "https://localhost:8080/"
        },
        "id": "q1tz5vgQskwr",
        "outputId": "6a3a0388-1f09-42b8-d75d-74a1095fa997"
      },
      "execution_count": 9,
      "outputs": [
        {
          "output_type": "stream",
          "name": "stdout",
          "text": [
            "Alice guessed who it was, even before she had not the smallest notice of her little sister's dream.\n"
          ]
        }
      ]
    },
    {
      "cell_type": "code",
      "source": [
        "novel = ''\n",
        "while (len( novel.split(\" \")) < 500):\n",
        "  for i in range(random.randrange(3,9)):\n",
        "    novel += text_model.make_sentence() + \" \"\n",
        "  novel += \"\\n\\n\"\n",
        "    # print(text_model.make_sentence()\n",
        "\n",
        "print(novel)"
      ],
      "metadata": {
        "colab": {
          "base_uri": "https://localhost:8080/"
        },
        "id": "gcu3VTXDsmWG",
        "outputId": "26e07107-d9ba-48f7-87e5-e3884340fa58"
      },
      "execution_count": 10,
      "outputs": [
        {
          "output_type": "stream",
          "name": "stdout",
          "text": [
            "The three soldiers wandered about for a minute or two, looking for it, while the Dodo solemnly presented the thimble, looking as solemn as she left her, leaning her head in the middle. The moment Alice felt that it was too late to wish that! The Hatter was the Cat again, sitting on the ground near the right size, that it was very uncomfortable, and, as there seemed to be no chance of this, so she went on. If I or she fell very slowly, for she felt that it was too slippery; and when she caught it, and on both sides at once. Alice laughed so much at this, she looked back once or twice, and shook itself. Who for such dainties would not join the dance. Alice replied in a low curtain she had put the Lizard in head downwards, and the Queen, who were all shaped like ears and the little door about fifteen inches high: she tried the little golden key, and Alice's elbow was pressed so closely against her foot, that there was a most extraordinary noise going on shrinking rapidly: she soon made out that it would make with the Gryphon. It was so much contradicted in her life before, and she very good-naturedly began hunting about for them, but they were all turning into little cakes as they all looked so grave that she was peering about anxiously among the people that walk with their heads downward! \n",
            "\n",
            "Now, if you please! Once more she found herself lying on the top with its tongue hanging out of its mouth and yawned once or twice, half hoping that they would go, and making quite a new idea to Alice, and she felt very lonely and low-spirited. As soon as the door and found quite a conversation of it now in sight, and no more of it appeared. Just then her head to feel which way it was sneezing and howling alternately without a moment's delay would cost them their lives. Either the well was very glad to find that she had nibbled some more of the e--e--evening, Beautiful, beautiful Soup! On which Seven looked up eagerly, half hoping that the cause of this was the fan and the turtles all advance! \n",
            "\n",
            "Alice glanced rather anxiously at the Queen, `Really, my dear, YOU must cross-examine the next witness. This was quite a new idea to Alice, and she set to work, and very soon came upon a little way out of its little eyes, but it did not seem to encourage the witness at all: he kept shifting from one of the guinea-pigs cheered, and was gone in a large one, but the tops of the court. However, she did not like to show you! As she said this, she looked up, and there was a large piece out of breath, and till the eyes appeared, and then quietly marched off after the birds! This was not even room for her. Let me see--how IS it to be listening, so she helped herself to about two feet high: even then she remembered that she began very cautiously: `But I don't understand. So she began: `O Mouse, do you know the way the people that walk with their hands and feet at once, and ran till she had sat down a very curious sensation, which puzzled her a good deal frightened by this very sudden change, but she did not like to be sure, this generally happens when one eats cake, but Alice had not the same, the next question is, Who in the lap of her age knew the meaning of it in the sun. \n",
            "\n",
            "\n"
          ]
        }
      ]
    }
  ]
}